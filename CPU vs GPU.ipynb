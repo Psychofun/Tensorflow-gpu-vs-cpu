{
 "cells": [
  {
   "cell_type": "markdown",
   "metadata": {},
   "source": [
    "# Código de Colaboratory: \n",
    "\n",
    "__[click aquí](https://colab.research.google.com/notebooks/gpu.ipynb)__"
   ]
  },
  {
   "cell_type": "code",
   "execution_count": 11,
   "metadata": {},
   "outputs": [],
   "source": [
    "import tensorflow as tf"
   ]
  },
  {
   "cell_type": "code",
   "execution_count": 12,
   "metadata": {},
   "outputs": [
    {
     "name": "stdout",
     "output_type": "stream",
     "text": [
      "Nombre de la GPU: /device:GPU:0\n"
     ]
    }
   ],
   "source": [
    "device_name = tf.test.gpu_device_name()\n",
    "print(\"Nombre de la GPU:\", device_name)"
   ]
  },
  {
   "cell_type": "markdown",
   "metadata": {},
   "source": [
    "# Prueba de Velocidad"
   ]
  },
  {
   "cell_type": "code",
   "execution_count": 13,
   "metadata": {},
   "outputs": [],
   "source": [
    "config = tf.ConfigProto()\n",
    "config.gpu_options.allow_growth = True"
   ]
  },
  {
   "cell_type": "code",
   "execution_count": 14,
   "metadata": {},
   "outputs": [],
   "source": [
    "### Con cpu\n",
    "with tf.device(\"/cpu:0\"):\n",
    "    random_image_cpu = tf.random_normal((100,100,100,3))\n",
    "    net_cpu = tf.layers.conv2d(random_image_cpu,32,7)\n",
    "    net_cpu = tf.reduce_sum(net_cpu)\n"
   ]
  },
  {
   "cell_type": "code",
   "execution_count": 15,
   "metadata": {},
   "outputs": [],
   "source": [
    "### Con gpu \n",
    "\n",
    "with tf.device(\"/gpu:0\"):\n",
    "    random_image_gpu = tf.random_normal((100,100,100,3))\n",
    "    net_gpu = tf.layers.conv2d(random_image_gpu, 32,7)\n",
    "    net_gpu = tf.reduce_sum(net_gpu)\n",
    "    "
   ]
  },
  {
   "cell_type": "code",
   "execution_count": 16,
   "metadata": {},
   "outputs": [],
   "source": [
    "### Crea la sesión\n",
    "sess = tf.Session(config = config)"
   ]
  },
  {
   "cell_type": "code",
   "execution_count": 17,
   "metadata": {},
   "outputs": [],
   "source": [
    "### Inicialización de variables \n",
    "try:\n",
    "    sess.run(tf.global_variables_initializer())\n",
    "except tf.errors.InvalidArgumentError:\n",
    "    print(\"No es posible usar GPU\")"
   ]
  },
  {
   "cell_type": "code",
   "execution_count": 18,
   "metadata": {},
   "outputs": [],
   "source": [
    "def cpu():\n",
    "    sess.run(net_cpu)\n",
    "def gpu():\n",
    "    sess.run(net_gpu)\n",
    "    "
   ]
  },
  {
   "cell_type": "code",
   "execution_count": 20,
   "metadata": {},
   "outputs": [
    {
     "name": "stdout",
     "output_type": "stream",
     "text": [
      "Tiempo (s) convolución 32x7x7x3 sobre imagenes aleatorias de 100x100x100x3\n",
      "Formato: lote x altura x anchura x canales. 10 ejecuciones\n",
      "Tiempo en cpu: 52.17652238826554\n",
      "Tiempo en gpu: 2.087869495324526\n",
      "Mejora GPU sobre CPU: 24.0x\n"
     ]
    }
   ],
   "source": [
    "import timeit\n",
    "print(\"Tiempo (s) convolución 32x7x7x3 sobre imagenes aleatorias de 100x100x100x3\")\n",
    "print(\"Formato: lote x altura x anchura x canales. 10 ejecuciones\")\n",
    "\n",
    "cpu_time  = timeit.timeit('cpu()', number = 100 , setup = \"from __main__ import cpu\")\n",
    "print(\"Tiempo en cpu:\", cpu_time)\n",
    "\n",
    "gpu_time = timeit.timeit('gpu()', number = 100, setup = \"from __main__ import gpu\")\n",
    "print(\"Tiempo en gpu:\", gpu_time)\n",
    "\n",
    "print(\"Mejora GPU sobre CPU:\", str(cpu_time//gpu_time) +\"x\")\n",
    "\n"
   ]
  },
  {
   "cell_type": "code",
   "execution_count": 22,
   "metadata": {},
   "outputs": [],
   "source": [
    "### Cierra la sesión.\n",
    "sess.close()"
   ]
  },
  {
   "cell_type": "code",
   "execution_count": null,
   "metadata": {},
   "outputs": [],
   "source": []
  }
 ],
 "metadata": {
  "kernelspec": {
   "display_name": "tensorflow1.9",
   "language": "python",
   "name": "tensorflow1.9"
  },
  "language_info": {
   "codemirror_mode": {
    "name": "ipython",
    "version": 3
   },
   "file_extension": ".py",
   "mimetype": "text/x-python",
   "name": "python",
   "nbconvert_exporter": "python",
   "pygments_lexer": "ipython3",
   "version": "3.5.5"
  }
 },
 "nbformat": 4,
 "nbformat_minor": 2
}
